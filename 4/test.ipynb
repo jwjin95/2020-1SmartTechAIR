{
 "cells": [
  {
   "cell_type": "code",
   "execution_count": 64,
   "metadata": {},
   "outputs": [],
   "source": [
    "import pandas as pd\n",
    "import numpy as np\n",
    "import xlrd\n",
    "import math\n",
    "from statsmodels.tsa.holtwinters import SimpleExpSmoothing"
   ]
  },
  {
   "cell_type": "code",
   "execution_count": 2,
   "metadata": {},
   "outputs": [],
   "source": [
    "df = pd.read_excel(\"6_Forecasting_Data.xlsm\", sheet_name=\"Timeseries\")"
   ]
  },
  {
   "cell_type": "code",
   "execution_count": 3,
   "metadata": {
    "scrolled": true
   },
   "outputs": [
    {
     "data": {
      "text/html": [
       "<div>\n",
       "<style scoped>\n",
       "    .dataframe tbody tr th:only-of-type {\n",
       "        vertical-align: middle;\n",
       "    }\n",
       "\n",
       "    .dataframe tbody tr th {\n",
       "        vertical-align: top;\n",
       "    }\n",
       "\n",
       "    .dataframe thead th {\n",
       "        text-align: right;\n",
       "    }\n",
       "</style>\n",
       "<table border=\"1\" class=\"dataframe\">\n",
       "  <thead>\n",
       "    <tr style=\"text-align: right;\">\n",
       "      <th></th>\n",
       "      <th>t</th>\n",
       "      <th>Demand</th>\n",
       "    </tr>\n",
       "  </thead>\n",
       "  <tbody>\n",
       "    <tr>\n",
       "      <th>0</th>\n",
       "      <td>1</td>\n",
       "      <td>165</td>\n",
       "    </tr>\n",
       "    <tr>\n",
       "      <th>1</th>\n",
       "      <td>2</td>\n",
       "      <td>171</td>\n",
       "    </tr>\n",
       "    <tr>\n",
       "      <th>2</th>\n",
       "      <td>3</td>\n",
       "      <td>147</td>\n",
       "    </tr>\n",
       "    <tr>\n",
       "      <th>3</th>\n",
       "      <td>4</td>\n",
       "      <td>143</td>\n",
       "    </tr>\n",
       "    <tr>\n",
       "      <th>4</th>\n",
       "      <td>5</td>\n",
       "      <td>164</td>\n",
       "    </tr>\n",
       "    <tr>\n",
       "      <th>5</th>\n",
       "      <td>6</td>\n",
       "      <td>160</td>\n",
       "    </tr>\n",
       "    <tr>\n",
       "      <th>6</th>\n",
       "      <td>7</td>\n",
       "      <td>152</td>\n",
       "    </tr>\n",
       "    <tr>\n",
       "      <th>7</th>\n",
       "      <td>8</td>\n",
       "      <td>150</td>\n",
       "    </tr>\n",
       "    <tr>\n",
       "      <th>8</th>\n",
       "      <td>9</td>\n",
       "      <td>159</td>\n",
       "    </tr>\n",
       "    <tr>\n",
       "      <th>9</th>\n",
       "      <td>10</td>\n",
       "      <td>169</td>\n",
       "    </tr>\n",
       "    <tr>\n",
       "      <th>10</th>\n",
       "      <td>11</td>\n",
       "      <td>173</td>\n",
       "    </tr>\n",
       "    <tr>\n",
       "      <th>11</th>\n",
       "      <td>12</td>\n",
       "      <td>203</td>\n",
       "    </tr>\n",
       "    <tr>\n",
       "      <th>12</th>\n",
       "      <td>13</td>\n",
       "      <td>169</td>\n",
       "    </tr>\n",
       "    <tr>\n",
       "      <th>13</th>\n",
       "      <td>14</td>\n",
       "      <td>166</td>\n",
       "    </tr>\n",
       "    <tr>\n",
       "      <th>14</th>\n",
       "      <td>15</td>\n",
       "      <td>162</td>\n",
       "    </tr>\n",
       "    <tr>\n",
       "      <th>15</th>\n",
       "      <td>16</td>\n",
       "      <td>147</td>\n",
       "    </tr>\n",
       "    <tr>\n",
       "      <th>16</th>\n",
       "      <td>17</td>\n",
       "      <td>188</td>\n",
       "    </tr>\n",
       "    <tr>\n",
       "      <th>17</th>\n",
       "      <td>18</td>\n",
       "      <td>161</td>\n",
       "    </tr>\n",
       "    <tr>\n",
       "      <th>18</th>\n",
       "      <td>19</td>\n",
       "      <td>162</td>\n",
       "    </tr>\n",
       "    <tr>\n",
       "      <th>19</th>\n",
       "      <td>20</td>\n",
       "      <td>169</td>\n",
       "    </tr>\n",
       "    <tr>\n",
       "      <th>20</th>\n",
       "      <td>21</td>\n",
       "      <td>185</td>\n",
       "    </tr>\n",
       "    <tr>\n",
       "      <th>21</th>\n",
       "      <td>22</td>\n",
       "      <td>188</td>\n",
       "    </tr>\n",
       "    <tr>\n",
       "      <th>22</th>\n",
       "      <td>23</td>\n",
       "      <td>200</td>\n",
       "    </tr>\n",
       "    <tr>\n",
       "      <th>23</th>\n",
       "      <td>24</td>\n",
       "      <td>229</td>\n",
       "    </tr>\n",
       "    <tr>\n",
       "      <th>24</th>\n",
       "      <td>25</td>\n",
       "      <td>189</td>\n",
       "    </tr>\n",
       "    <tr>\n",
       "      <th>25</th>\n",
       "      <td>26</td>\n",
       "      <td>218</td>\n",
       "    </tr>\n",
       "    <tr>\n",
       "      <th>26</th>\n",
       "      <td>27</td>\n",
       "      <td>185</td>\n",
       "    </tr>\n",
       "    <tr>\n",
       "      <th>27</th>\n",
       "      <td>28</td>\n",
       "      <td>199</td>\n",
       "    </tr>\n",
       "    <tr>\n",
       "      <th>28</th>\n",
       "      <td>29</td>\n",
       "      <td>210</td>\n",
       "    </tr>\n",
       "    <tr>\n",
       "      <th>29</th>\n",
       "      <td>30</td>\n",
       "      <td>193</td>\n",
       "    </tr>\n",
       "    <tr>\n",
       "      <th>30</th>\n",
       "      <td>31</td>\n",
       "      <td>211</td>\n",
       "    </tr>\n",
       "    <tr>\n",
       "      <th>31</th>\n",
       "      <td>32</td>\n",
       "      <td>208</td>\n",
       "    </tr>\n",
       "    <tr>\n",
       "      <th>32</th>\n",
       "      <td>33</td>\n",
       "      <td>216</td>\n",
       "    </tr>\n",
       "    <tr>\n",
       "      <th>33</th>\n",
       "      <td>34</td>\n",
       "      <td>218</td>\n",
       "    </tr>\n",
       "    <tr>\n",
       "      <th>34</th>\n",
       "      <td>35</td>\n",
       "      <td>264</td>\n",
       "    </tr>\n",
       "    <tr>\n",
       "      <th>35</th>\n",
       "      <td>36</td>\n",
       "      <td>304</td>\n",
       "    </tr>\n",
       "  </tbody>\n",
       "</table>\n",
       "</div>"
      ],
      "text/plain": [
       "     t  Demand\n",
       "0    1     165\n",
       "1    2     171\n",
       "2    3     147\n",
       "3    4     143\n",
       "4    5     164\n",
       "5    6     160\n",
       "6    7     152\n",
       "7    8     150\n",
       "8    9     159\n",
       "9   10     169\n",
       "10  11     173\n",
       "11  12     203\n",
       "12  13     169\n",
       "13  14     166\n",
       "14  15     162\n",
       "15  16     147\n",
       "16  17     188\n",
       "17  18     161\n",
       "18  19     162\n",
       "19  20     169\n",
       "20  21     185\n",
       "21  22     188\n",
       "22  23     200\n",
       "23  24     229\n",
       "24  25     189\n",
       "25  26     218\n",
       "26  27     185\n",
       "27  28     199\n",
       "28  29     210\n",
       "29  30     193\n",
       "30  31     211\n",
       "31  32     208\n",
       "32  33     216\n",
       "33  34     218\n",
       "34  35     264\n",
       "35  36     304"
      ]
     },
     "execution_count": 3,
     "metadata": {},
     "output_type": "execute_result"
    }
   ],
   "source": [
    "df"
   ]
  },
  {
   "cell_type": "code",
   "execution_count": 111,
   "metadata": {},
   "outputs": [],
   "source": [
    "data = df.to_numpy()\n",
    "series = pd.Series(data[:, 1], data[:, 0])"
   ]
  },
  {
   "cell_type": "code",
   "execution_count": 5,
   "metadata": {
    "scrolled": true
   },
   "outputs": [
    {
     "data": {
      "text/plain": [
       "array([[  1, 165],\n",
       "       [  2, 171],\n",
       "       [  3, 147],\n",
       "       [  4, 143],\n",
       "       [  5, 164],\n",
       "       [  6, 160],\n",
       "       [  7, 152],\n",
       "       [  8, 150],\n",
       "       [  9, 159],\n",
       "       [ 10, 169],\n",
       "       [ 11, 173],\n",
       "       [ 12, 203],\n",
       "       [ 13, 169],\n",
       "       [ 14, 166],\n",
       "       [ 15, 162],\n",
       "       [ 16, 147],\n",
       "       [ 17, 188],\n",
       "       [ 18, 161],\n",
       "       [ 19, 162],\n",
       "       [ 20, 169],\n",
       "       [ 21, 185],\n",
       "       [ 22, 188],\n",
       "       [ 23, 200],\n",
       "       [ 24, 229],\n",
       "       [ 25, 189],\n",
       "       [ 26, 218],\n",
       "       [ 27, 185],\n",
       "       [ 28, 199],\n",
       "       [ 29, 210],\n",
       "       [ 30, 193],\n",
       "       [ 31, 211],\n",
       "       [ 32, 208],\n",
       "       [ 33, 216],\n",
       "       [ 34, 218],\n",
       "       [ 35, 264],\n",
       "       [ 36, 304]], dtype=int64)"
      ]
     },
     "execution_count": 5,
     "metadata": {},
     "output_type": "execute_result"
    }
   ],
   "source": [
    "data"
   ]
  },
  {
   "cell_type": "code",
   "execution_count": 112,
   "metadata": {
    "scrolled": true
   },
   "outputs": [
    {
     "data": {
      "text/plain": [
       "1.0     165.0\n",
       "2.0     171.0\n",
       "3.0     147.0\n",
       "4.0     143.0\n",
       "5.0     164.0\n",
       "6.0     160.0\n",
       "7.0     152.0\n",
       "8.0     150.0\n",
       "9.0     159.0\n",
       "10.0    169.0\n",
       "11.0    173.0\n",
       "12.0    203.0\n",
       "13.0    169.0\n",
       "14.0    166.0\n",
       "15.0    162.0\n",
       "16.0    147.0\n",
       "17.0    188.0\n",
       "18.0    161.0\n",
       "19.0    162.0\n",
       "20.0    169.0\n",
       "21.0    185.0\n",
       "22.0    188.0\n",
       "23.0    200.0\n",
       "24.0    229.0\n",
       "25.0    189.0\n",
       "26.0    218.0\n",
       "27.0    185.0\n",
       "28.0    199.0\n",
       "29.0    210.0\n",
       "30.0    193.0\n",
       "31.0    211.0\n",
       "32.0    208.0\n",
       "33.0    216.0\n",
       "34.0    218.0\n",
       "35.0    264.0\n",
       "36.0    304.0\n",
       "dtype: float64"
      ]
     },
     "execution_count": 112,
     "metadata": {},
     "output_type": "execute_result"
    }
   ],
   "source": [
    "series"
   ]
  },
  {
   "cell_type": "code",
   "execution_count": 11,
   "metadata": {},
   "outputs": [
    {
     "name": "stderr",
     "output_type": "stream",
     "text": [
      "C:\\Users\\LG\\anaconda3\\lib\\site-packages\\statsmodels\\tsa\\base\\tsa_model.py:214: ValueWarning: An unsupported index was provided and will be ignored when e.g. forecasting.\n",
      "  ' ignored when e.g. forecasting.', ValueWarning)\n"
     ]
    }
   ],
   "source": [
    "SES = SimpleExpSmoothing(series).fit()"
   ]
  },
  {
   "cell_type": "code",
   "execution_count": 12,
   "metadata": {},
   "outputs": [
    {
     "name": "stderr",
     "output_type": "stream",
     "text": [
      "C:\\Users\\LG\\anaconda3\\lib\\site-packages\\statsmodels\\tsa\\base\\tsa_model.py:583: ValueWarning: No supported index is available. Prediction results will be given with an integer index beginning at `start`.\n",
      "  ValueWarning)\n"
     ]
    },
    {
     "data": {
      "text/plain": [
       "36    289.958166\n",
       "37    289.958166\n",
       "38    289.958166\n",
       "39    289.958166\n",
       "40    289.958166\n",
       "41    289.958166\n",
       "42    289.958166\n",
       "43    289.958166\n",
       "44    289.958166\n",
       "45    289.958166\n",
       "46    289.958166\n",
       "47    289.958166\n",
       "dtype: float64"
      ]
     },
     "execution_count": 12,
     "metadata": {},
     "output_type": "execute_result"
    }
   ],
   "source": [
    "SES.forecast(12)"
   ]
  },
  {
   "cell_type": "code",
   "execution_count": 46,
   "metadata": {},
   "outputs": [
    {
     "name": "stderr",
     "output_type": "stream",
     "text": [
      "C:\\Users\\LG\\anaconda3\\lib\\site-packages\\statsmodels\\tsa\\base\\tsa_model.py:583: ValueWarning: No supported index is available. Prediction results will be given with an integer index beginning at `start`.\n",
      "  ValueWarning)\n"
     ]
    },
    {
     "data": {
      "text/plain": [
       "<matplotlib.axes._subplots.AxesSubplot at 0x2a17e274408>"
      ]
     },
     "execution_count": 46,
     "metadata": {},
     "output_type": "execute_result"
    },
    {
     "data": {
      "image/png": "[encoded data removed]",
      "text/plain": [
       "<Figure size 432x288 with 1 Axes>"
      ]
     },
     "metadata": {
      "needs_background": "light"
     },
     "output_type": "display_data"
    }
   ],
   "source": [
    "#df.Demand.plot(style=\"--\", color=\"blue\")\n",
    "df.plot.line(x='t', y='Demand', style=\"--\", marker=\"o\", color=\"blue\")\n",
    "SES.forecast(12).plot(style=\"--\", marker=\"o\", color=\"blue\")\n"
   ]
  },
  {
   "cell_type": "code",
   "execution_count": 42,
   "metadata": {},
   "outputs": [
    {
     "data": {
      "text/plain": [
       "14551.848333915868"
      ]
     },
     "execution_count": 42,
     "metadata": {},
     "output_type": "execute_result"
    }
   ],
   "source": [
    "SES.sse"
   ]
  },
  {
   "cell_type": "code",
   "execution_count": 44,
   "metadata": {},
   "outputs": [
    {
     "data": {
      "text/plain": [
       "20.39036770768833"
      ]
     },
     "execution_count": 44,
     "metadata": {},
     "output_type": "execute_result"
    }
   ],
   "source": [
    "math.sqrt(SES.sse/(36-1))"
   ]
  },
  {
   "cell_type": "code",
   "execution_count": 48,
   "metadata": {},
   "outputs": [],
   "source": [
    "from statsmodels.tsa.holtwinters import Holt\n",
    "from statsmodels.tsa.holtwinters import ExponentialSmoothing\n",
    "from scipy.stats import linregress\n",
    "from statsmodels.tsa.stattools import acf\n",
    "from statsmodels.graphics.tsaplots import plot_acf"
   ]
  },
  {
   "cell_type": "code",
   "execution_count": 50,
   "metadata": {},
   "outputs": [
    {
     "data": {
      "text/plain": [
       "LinregressResult(slope=0.8369453044375644, intercept=155.8823529411765, rvalue=0.30308617886240374, pvalue=0.22148686835726447, stderr=0.6578805720970533)"
      ]
     },
     "execution_count": 50,
     "metadata": {},
     "output_type": "execute_result"
    }
   ],
   "source": [
    "x=df.t[:18]\n",
    "y=df.Demand[:18]\n",
    "linregress(x,y)"
   ]
  },
  {
   "cell_type": "code",
   "execution_count": 51,
   "metadata": {},
   "outputs": [
    {
     "name": "stderr",
     "output_type": "stream",
     "text": [
      "C:\\Users\\LG\\anaconda3\\lib\\site-packages\\statsmodels\\tsa\\base\\tsa_model.py:214: ValueWarning: An unsupported index was provided and will be ignored when e.g. forecasting.\n",
      "  ' ignored when e.g. forecasting.', ValueWarning)\n",
      "C:\\Users\\LG\\anaconda3\\lib\\site-packages\\statsmodels\\tsa\\holtwinters.py:731: RuntimeWarning: invalid value encountered in greater_equal\n",
      "  loc = initial_p >= ub\n"
     ]
    }
   ],
   "source": [
    "Hz = Holt(series).fit()"
   ]
  },
  {
   "cell_type": "code",
   "execution_count": 52,
   "metadata": {
    "scrolled": true
   },
   "outputs": [
    {
     "name": "stderr",
     "output_type": "stream",
     "text": [
      "C:\\Users\\LG\\anaconda3\\lib\\site-packages\\statsmodels\\tsa\\base\\tsa_model.py:583: ValueWarning: No supported index is available. Prediction results will be given with an integer index beginning at `start`.\n",
      "  ValueWarning)\n"
     ]
    },
    {
     "data": {
      "text/plain": [
       "36    290.320147\n",
       "37    293.869445\n",
       "38    297.418743\n",
       "39    300.968040\n",
       "40    304.517338\n",
       "41    308.066636\n",
       "42    311.615934\n",
       "43    315.165232\n",
       "44    318.714530\n",
       "45    322.263828\n",
       "46    325.813126\n",
       "47    329.362423\n",
       "dtype: float64"
      ]
     },
     "execution_count": 52,
     "metadata": {},
     "output_type": "execute_result"
    }
   ],
   "source": [
    "Hz.forecast(12)"
   ]
  },
  {
   "cell_type": "code",
   "execution_count": 54,
   "metadata": {},
   "outputs": [
    {
     "data": {
      "text/plain": [
       "{'smoothing_level': 0.6608136050293513,\n",
       " 'smoothing_slope': 0.0,\n",
       " 'smoothing_seasonal': nan,\n",
       " 'damping_slope': nan,\n",
       " 'initial_level': 158.99599068312165,\n",
       " 'initial_slope': 3.5492978658760395,\n",
       " 'initial_seasons': array([], dtype=float64),\n",
       " 'use_boxcox': False,\n",
       " 'lamda': None,\n",
       " 'remove_bias': False}"
      ]
     },
     "execution_count": 54,
     "metadata": {},
     "output_type": "execute_result"
    }
   ],
   "source": [
    "Hz.params"
   ]
  },
  {
   "cell_type": "code",
   "execution_count": 55,
   "metadata": {},
   "outputs": [
    {
     "data": {
      "text/plain": [
       "1      2.454711\n",
       "2      3.283307\n",
       "3    -26.435645\n",
       "4    -16.515909\n",
       "5     11.848731\n",
       "6     -3.530370\n",
       "7    -12.746751\n",
       "8     -9.872822\n",
       "9      2.101975\n",
       "10     7.163663\n",
       "11     2.880519\n",
       "12    27.427735\n",
       "13   -28.246183\n",
       "14   -16.130019\n",
       "15   -13.020381\n",
       "16   -22.965634\n",
       "17    29.661072\n",
       "18   -20.488666\n",
       "19    -9.498775\n",
       "20     0.228847\n",
       "21    12.528324\n",
       "22     3.700139\n",
       "23     9.705739\n",
       "24    28.742757\n",
       "25   -33.800146\n",
       "26    13.986153\n",
       "27   -31.805385\n",
       "28    -0.337252\n",
       "29     7.336311\n",
       "30   -18.060921\n",
       "31     8.324683\n",
       "32    -3.725678\n",
       "33     3.187003\n",
       "34    -0.468310\n",
       "35    42.291858\n",
       "36    50.795525\n",
       "dtype: float64"
      ]
     },
     "execution_count": 55,
     "metadata": {},
     "output_type": "execute_result"
    }
   ],
   "source": [
    "Hz.resid"
   ]
  },
  {
   "cell_type": "code",
   "execution_count": 57,
   "metadata": {},
   "outputs": [
    {
     "data": {
      "image/png": "[encoded data removed]",
      "text/plain": [
       "<Figure size 432x288 with 1 Axes>"
      ]
     },
     "execution_count": 57,
     "metadata": {},
     "output_type": "execute_result"
    },
    {
     "data": {
      "image/png": "[encoded data removed]",
      "text/plain": [
       "<Figure size 432x288 with 1 Axes>"
      ]
     },
     "metadata": {
      "needs_background": "light"
     },
     "output_type": "display_data"
    }
   ],
   "source": [
    "plot_acf(Hz.resid, lags=12)"
   ]
  },
  {
   "cell_type": "code",
   "execution_count": 58,
   "metadata": {},
   "outputs": [
    {
     "name": "stderr",
     "output_type": "stream",
     "text": [
      "C:\\Users\\LG\\anaconda3\\lib\\site-packages\\statsmodels\\tsa\\stattools.py:572: FutureWarning: fft=True will become the default in a future version of statsmodels. To suppress this warning, explicitly set fft=False.\n",
      "  FutureWarning\n"
     ]
    },
    {
     "data": {
      "text/plain": [
       "array([ 1.        , -0.01736206,  0.06753744, -0.00440462, -0.15176792,\n",
       "        0.1199185 , -0.16848861,  0.13962339, -0.30455665, -0.00583066,\n",
       "       -0.09231976,  0.0524205 ,  0.40895093])"
      ]
     },
     "execution_count": 58,
     "metadata": {},
     "output_type": "execute_result"
    }
   ],
   "source": [
    "acf(Hz.resid, nlags=12)"
   ]
  },
  {
   "cell_type": "code",
   "execution_count": 61,
   "metadata": {},
   "outputs": [
    {
     "name": "stderr",
     "output_type": "stream",
     "text": [
      "C:\\Users\\LG\\anaconda3\\lib\\site-packages\\statsmodels\\tsa\\base\\tsa_model.py:583: ValueWarning: No supported index is available. Prediction results will be given with an integer index beginning at `start`.\n",
      "  ValueWarning)\n"
     ]
    },
    {
     "data": {
      "text/plain": [
       "<matplotlib.axes._subplots.AxesSubplot at 0x2a100133a88>"
      ]
     },
     "execution_count": 61,
     "metadata": {},
     "output_type": "execute_result"
    },
    {
     "data": {
      "image/png": "[encoded data removed]",
      "text/plain": [
       "<Figure size 432x288 with 1 Axes>"
      ]
     },
     "metadata": {
      "needs_background": "light"
     },
     "output_type": "display_data"
    }
   ],
   "source": [
    "df.plot.line(x='t', y='Demand')\n",
    "Hz.forecast(12).plot(style=\"--\", marker=\"o\", color=\"blue\")"
   ]
  },
  {
   "cell_type": "code",
   "execution_count": 80,
   "metadata": {
    "scrolled": true
   },
   "outputs": [],
   "source": [
    "smoothed = [None for i in range(36)]\n",
    "mean1 = [0 for i in range(12)]\n",
    "mean2 = [0 for i in range(12)]\n",
    "for i in range(6,30):\n",
    "    for j in range(12):\n",
    "        mean1[j] = data[i-6+j][1]\n",
    "        mean2[j] = data[i-6+j+1][1]\n",
    "    smoothed[i] = (np.mean(mean1) + np.mean(mean2))/ 2\n"
   ]
  },
  {
   "cell_type": "code",
   "execution_count": 81,
   "metadata": {},
   "outputs": [],
   "source": [
    "for i in range(36):\n",
    "    df.loc[i,'smoothed'] = smoothed[i]"
   ]
  },
  {
   "cell_type": "code",
   "execution_count": 82,
   "metadata": {
    "scrolled": true
   },
   "outputs": [
    {
     "data": {
      "text/html": [
       "<div>\n",
       "<style scoped>\n",
       "    .dataframe tbody tr th:only-of-type {\n",
       "        vertical-align: middle;\n",
       "    }\n",
       "\n",
       "    .dataframe tbody tr th {\n",
       "        vertical-align: top;\n",
       "    }\n",
       "\n",
       "    .dataframe thead th {\n",
       "        text-align: right;\n",
       "    }\n",
       "</style>\n",
       "<table border=\"1\" class=\"dataframe\">\n",
       "  <thead>\n",
       "    <tr style=\"text-align: right;\">\n",
       "      <th></th>\n",
       "      <th>t</th>\n",
       "      <th>Demand</th>\n",
       "      <th>smoothed</th>\n",
       "    </tr>\n",
       "  </thead>\n",
       "  <tbody>\n",
       "    <tr>\n",
       "      <th>0</th>\n",
       "      <td>1</td>\n",
       "      <td>165</td>\n",
       "      <td>NaN</td>\n",
       "    </tr>\n",
       "    <tr>\n",
       "      <th>1</th>\n",
       "      <td>2</td>\n",
       "      <td>171</td>\n",
       "      <td>NaN</td>\n",
       "    </tr>\n",
       "    <tr>\n",
       "      <th>2</th>\n",
       "      <td>3</td>\n",
       "      <td>147</td>\n",
       "      <td>NaN</td>\n",
       "    </tr>\n",
       "    <tr>\n",
       "      <th>3</th>\n",
       "      <td>4</td>\n",
       "      <td>143</td>\n",
       "      <td>NaN</td>\n",
       "    </tr>\n",
       "    <tr>\n",
       "      <th>4</th>\n",
       "      <td>5</td>\n",
       "      <td>164</td>\n",
       "      <td>NaN</td>\n",
       "    </tr>\n",
       "    <tr>\n",
       "      <th>5</th>\n",
       "      <td>6</td>\n",
       "      <td>160</td>\n",
       "      <td>NaN</td>\n",
       "    </tr>\n",
       "    <tr>\n",
       "      <th>6</th>\n",
       "      <td>7</td>\n",
       "      <td>152</td>\n",
       "      <td>163.166667</td>\n",
       "    </tr>\n",
       "    <tr>\n",
       "      <th>7</th>\n",
       "      <td>8</td>\n",
       "      <td>150</td>\n",
       "      <td>163.125000</td>\n",
       "    </tr>\n",
       "    <tr>\n",
       "      <th>8</th>\n",
       "      <td>9</td>\n",
       "      <td>159</td>\n",
       "      <td>163.541667</td>\n",
       "    </tr>\n",
       "    <tr>\n",
       "      <th>9</th>\n",
       "      <td>10</td>\n",
       "      <td>169</td>\n",
       "      <td>164.333333</td>\n",
       "    </tr>\n",
       "    <tr>\n",
       "      <th>10</th>\n",
       "      <td>11</td>\n",
       "      <td>173</td>\n",
       "      <td>165.500000</td>\n",
       "    </tr>\n",
       "    <tr>\n",
       "      <th>11</th>\n",
       "      <td>12</td>\n",
       "      <td>203</td>\n",
       "      <td>166.541667</td>\n",
       "    </tr>\n",
       "    <tr>\n",
       "      <th>12</th>\n",
       "      <td>13</td>\n",
       "      <td>169</td>\n",
       "      <td>167.000000</td>\n",
       "    </tr>\n",
       "    <tr>\n",
       "      <th>13</th>\n",
       "      <td>14</td>\n",
       "      <td>166</td>\n",
       "      <td>168.208333</td>\n",
       "    </tr>\n",
       "    <tr>\n",
       "      <th>14</th>\n",
       "      <td>15</td>\n",
       "      <td>162</td>\n",
       "      <td>170.083333</td>\n",
       "    </tr>\n",
       "    <tr>\n",
       "      <th>15</th>\n",
       "      <td>16</td>\n",
       "      <td>147</td>\n",
       "      <td>171.958333</td>\n",
       "    </tr>\n",
       "    <tr>\n",
       "      <th>16</th>\n",
       "      <td>17</td>\n",
       "      <td>188</td>\n",
       "      <td>173.875000</td>\n",
       "    </tr>\n",
       "    <tr>\n",
       "      <th>17</th>\n",
       "      <td>18</td>\n",
       "      <td>161</td>\n",
       "      <td>176.083333</td>\n",
       "    </tr>\n",
       "    <tr>\n",
       "      <th>18</th>\n",
       "      <td>19</td>\n",
       "      <td>162</td>\n",
       "      <td>178.000000</td>\n",
       "    </tr>\n",
       "    <tr>\n",
       "      <th>19</th>\n",
       "      <td>20</td>\n",
       "      <td>169</td>\n",
       "      <td>181.000000</td>\n",
       "    </tr>\n",
       "    <tr>\n",
       "      <th>20</th>\n",
       "      <td>21</td>\n",
       "      <td>185</td>\n",
       "      <td>184.125000</td>\n",
       "    </tr>\n",
       "    <tr>\n",
       "      <th>21</th>\n",
       "      <td>22</td>\n",
       "      <td>188</td>\n",
       "      <td>187.250000</td>\n",
       "    </tr>\n",
       "    <tr>\n",
       "      <th>22</th>\n",
       "      <td>23</td>\n",
       "      <td>200</td>\n",
       "      <td>190.333333</td>\n",
       "    </tr>\n",
       "    <tr>\n",
       "      <th>23</th>\n",
       "      <td>24</td>\n",
       "      <td>229</td>\n",
       "      <td>192.583333</td>\n",
       "    </tr>\n",
       "    <tr>\n",
       "      <th>24</th>\n",
       "      <td>25</td>\n",
       "      <td>189</td>\n",
       "      <td>195.958333</td>\n",
       "    </tr>\n",
       "    <tr>\n",
       "      <th>25</th>\n",
       "      <td>26</td>\n",
       "      <td>218</td>\n",
       "      <td>199.625000</td>\n",
       "    </tr>\n",
       "    <tr>\n",
       "      <th>26</th>\n",
       "      <td>27</td>\n",
       "      <td>185</td>\n",
       "      <td>202.541667</td>\n",
       "    </tr>\n",
       "    <tr>\n",
       "      <th>27</th>\n",
       "      <td>28</td>\n",
       "      <td>199</td>\n",
       "      <td>205.083333</td>\n",
       "    </tr>\n",
       "    <tr>\n",
       "      <th>28</th>\n",
       "      <td>29</td>\n",
       "      <td>210</td>\n",
       "      <td>209.000000</td>\n",
       "    </tr>\n",
       "    <tr>\n",
       "      <th>29</th>\n",
       "      <td>30</td>\n",
       "      <td>193</td>\n",
       "      <td>214.791667</td>\n",
       "    </tr>\n",
       "    <tr>\n",
       "      <th>30</th>\n",
       "      <td>31</td>\n",
       "      <td>211</td>\n",
       "      <td>NaN</td>\n",
       "    </tr>\n",
       "    <tr>\n",
       "      <th>31</th>\n",
       "      <td>32</td>\n",
       "      <td>208</td>\n",
       "      <td>NaN</td>\n",
       "    </tr>\n",
       "    <tr>\n",
       "      <th>32</th>\n",
       "      <td>33</td>\n",
       "      <td>216</td>\n",
       "      <td>NaN</td>\n",
       "    </tr>\n",
       "    <tr>\n",
       "      <th>33</th>\n",
       "      <td>34</td>\n",
       "      <td>218</td>\n",
       "      <td>NaN</td>\n",
       "    </tr>\n",
       "    <tr>\n",
       "      <th>34</th>\n",
       "      <td>35</td>\n",
       "      <td>264</td>\n",
       "      <td>NaN</td>\n",
       "    </tr>\n",
       "    <tr>\n",
       "      <th>35</th>\n",
       "      <td>36</td>\n",
       "      <td>304</td>\n",
       "      <td>NaN</td>\n",
       "    </tr>\n",
       "  </tbody>\n",
       "</table>\n",
       "</div>"
      ],
      "text/plain": [
       "     t  Demand    smoothed\n",
       "0    1     165         NaN\n",
       "1    2     171         NaN\n",
       "2    3     147         NaN\n",
       "3    4     143         NaN\n",
       "4    5     164         NaN\n",
       "5    6     160         NaN\n",
       "6    7     152  163.166667\n",
       "7    8     150  163.125000\n",
       "8    9     159  163.541667\n",
       "9   10     169  164.333333\n",
       "10  11     173  165.500000\n",
       "11  12     203  166.541667\n",
       "12  13     169  167.000000\n",
       "13  14     166  168.208333\n",
       "14  15     162  170.083333\n",
       "15  16     147  171.958333\n",
       "16  17     188  173.875000\n",
       "17  18     161  176.083333\n",
       "18  19     162  178.000000\n",
       "19  20     169  181.000000\n",
       "20  21     185  184.125000\n",
       "21  22     188  187.250000\n",
       "22  23     200  190.333333\n",
       "23  24     229  192.583333\n",
       "24  25     189  195.958333\n",
       "25  26     218  199.625000\n",
       "26  27     185  202.541667\n",
       "27  28     199  205.083333\n",
       "28  29     210  209.000000\n",
       "29  30     193  214.791667\n",
       "30  31     211         NaN\n",
       "31  32     208         NaN\n",
       "32  33     216         NaN\n",
       "33  34     218         NaN\n",
       "34  35     264         NaN\n",
       "35  36     304         NaN"
      ]
     },
     "execution_count": 82,
     "metadata": {},
     "output_type": "execute_result"
    }
   ],
   "source": [
    "df"
   ]
  },
  {
   "cell_type": "code",
   "execution_count": 84,
   "metadata": {},
   "outputs": [
    {
     "data": {
      "text/plain": [
       "<matplotlib.axes._subplots.AxesSubplot at 0x2a10042c608>"
      ]
     },
     "execution_count": 84,
     "metadata": {},
     "output_type": "execute_result"
    },
    {
     "data": {
      "image/png": "[encoded data removed]",
      "text/plain": [
       "<Figure size 432x288 with 1 Axes>"
      ]
     },
     "metadata": {
      "needs_background": "light"
     },
     "output_type": "display_data"
    }
   ],
   "source": [
    "df.plot.line(x='t')"
   ]
  },
  {
   "cell_type": "code",
   "execution_count": 85,
   "metadata": {},
   "outputs": [
    {
     "data": {
      "text/plain": [
       "[None,\n",
       " None,\n",
       " None,\n",
       " None,\n",
       " None,\n",
       " None,\n",
       " 0.9315628192032686,\n",
       " 0.9195402298850575,\n",
       " 0.9722292993630574,\n",
       " 1.028397565922921,\n",
       " 1.0453172205438066,\n",
       " 1.2189141856392294,\n",
       " 1.0119760479041917,\n",
       " 0.9868714391875156,\n",
       " 0.9524742773150418,\n",
       " 0.8548582505451903,\n",
       " 1.081236520488857,\n",
       " 0.9143398012304781,\n",
       " 0.9101123595505618,\n",
       " 0.9337016574585635,\n",
       " 1.0047522063815342,\n",
       " 1.0040053404539386,\n",
       " 1.0507880910683014,\n",
       " 1.189095629597577,\n",
       " 0.9644907505847332,\n",
       " 1.0920475892298058,\n",
       " 0.9133923061098539,\n",
       " 0.970337261275904,\n",
       " 1.0047846889952152,\n",
       " 0.8985451018428711,\n",
       " None,\n",
       " None,\n",
       " None,\n",
       " None,\n",
       " None,\n",
       " None]"
      ]
     },
     "execution_count": 85,
     "metadata": {},
     "output_type": "execute_result"
    }
   ],
   "source": [
    "SeasonalFactorEstimate = [None for i in range(36)]\n",
    "for i in range(6,30):\n",
    "    SeasonalFactorEstimate[i] = data[i][1]/smoothed[i]\n",
    "SeasonalFactorEstimate"
   ]
  },
  {
   "cell_type": "code",
   "execution_count": 100,
   "metadata": {},
   "outputs": [
    {
     "data": {
      "text/plain": [
       "[0.9882333992444625,\n",
       " 1.0394595142086607,\n",
       " 0.9329332917124478,\n",
       " 0.9125977559105471,\n",
       " 1.0430106047420362,\n",
       " 0.9064424515366746,\n",
       " 0.9208375893769152,\n",
       " 0.9266209436718105,\n",
       " 0.9884907528722957,\n",
       " 1.0162014531884298,\n",
       " 1.0480526558060541,\n",
       " 1.2040049076184032]"
      ]
     },
     "execution_count": 100,
     "metadata": {},
     "output_type": "execute_result"
    }
   ],
   "source": [
    "InitialSeasonalFactors = [0 for i in range(12)]\n",
    "for i in range(0,6):\n",
    "    InitialSeasonalFactors[i] = (SeasonalFactorEstimate[i+12] + SeasonalFactorEstimate[i+24]) / 2\n",
    "for i in range(6,12):\n",
    "    InitialSeasonalFactors[i] = (SeasonalFactorEstimate[i] + SeasonalFactorEstimate[i+12]) / 2\n",
    "InitialSeasonalFactors"
   ]
  },
  {
   "cell_type": "code",
   "execution_count": 102,
   "metadata": {},
   "outputs": [
    {
     "data": {
      "text/plain": [
       "[0.9882333992444625,\n",
       " 1.0394595142086607,\n",
       " 0.9329332917124478,\n",
       " 0.9125977559105471,\n",
       " 1.0430106047420362,\n",
       " 0.9064424515366746,\n",
       " 0.9208375893769152,\n",
       " 0.9266209436718105,\n",
       " 0.9884907528722957,\n",
       " 1.0162014531884298,\n",
       " 1.0480526558060541,\n",
       " 1.2040049076184032,\n",
       " 0.9882333992444625,\n",
       " 1.0394595142086607,\n",
       " 0.9329332917124478,\n",
       " 0.9125977559105471,\n",
       " 1.0430106047420362,\n",
       " 0.9064424515366746,\n",
       " 0.9208375893769152,\n",
       " 0.9266209436718105,\n",
       " 0.9884907528722957,\n",
       " 1.0162014531884298,\n",
       " 1.0480526558060541,\n",
       " 1.2040049076184032,\n",
       " 0.9882333992444625,\n",
       " 1.0394595142086607,\n",
       " 0.9329332917124478,\n",
       " 0.9125977559105471,\n",
       " 1.0430106047420362,\n",
       " 0.9064424515366746,\n",
       " 0.9208375893769152,\n",
       " 0.9266209436718105,\n",
       " 0.9884907528722957,\n",
       " 1.0162014531884298,\n",
       " 1.0480526558060541,\n",
       " 1.2040049076184032]"
      ]
     },
     "execution_count": 102,
     "metadata": {},
     "output_type": "execute_result"
    }
   ],
   "source": [
    "ISF_x3 = [0 for i in range(36)]\n",
    "for i in range(36):\n",
    "    ISF_x3[i] = InitialSeasonalFactors[i%12]\n",
    "ISF_x3"
   ]
  },
  {
   "cell_type": "code",
   "execution_count": 103,
   "metadata": {
    "scrolled": true
   },
   "outputs": [
    {
     "data": {
      "text/plain": [
       "[166.96460585743006,\n",
       " 164.50857167840934,\n",
       " 157.5675359705235,\n",
       " 156.69554201053379,\n",
       " 157.2371357054049,\n",
       " 176.5142395181901,\n",
       " 165.0671103716029,\n",
       " 161.87849090223762,\n",
       " 160.85127709893854,\n",
       " 166.30560748535268,\n",
       " 165.06804218433683,\n",
       " 168.60396391701315,\n",
       " 171.01223266609503,\n",
       " 159.69837952406988,\n",
       " 173.64585596751567,\n",
       " 161.07863409474453,\n",
       " 180.2474482476593,\n",
       " 177.6174535151788,\n",
       " 175.92678868552414,\n",
       " 182.38309974985438,\n",
       " 187.15400165599766,\n",
       " 185.00268761684202,\n",
       " 190.83010657148768,\n",
       " 190.19856028076853,\n",
       " 191.2503667094199,\n",
       " 209.72437792920022,\n",
       " 198.2992799629037,\n",
       " 218.0588311894841,\n",
       " 201.34023474472582,\n",
       " 212.92030141881682,\n",
       " 229.13921242373823,\n",
       " 224.47150738443617,\n",
       " 218.51494247402968,\n",
       " 214.5243930876147,\n",
       " 251.89574067436374,\n",
       " 252.49066517621674]"
      ]
     },
     "execution_count": 103,
     "metadata": {},
     "output_type": "execute_result"
    }
   ],
   "source": [
    "DeseasonalizedData = [0 for i in range(36)]\n",
    "for i in range(36):\n",
    "    DeseasonalizedData[i] = data[i][1] / ISF_x3[i]\n",
    "DeseasonalizedData"
   ]
  },
  {
   "cell_type": "code",
   "execution_count": 104,
   "metadata": {},
   "outputs": [
    {
     "name": "stderr",
     "output_type": "stream",
     "text": [
      "C:\\Users\\LG\\anaconda3\\lib\\site-packages\\statsmodels\\tsa\\base\\tsa_model.py:214: ValueWarning: An unsupported index was provided and will be ignored when e.g. forecasting.\n",
      "  ' ignored when e.g. forecasting.', ValueWarning)\n",
      "C:\\Users\\LG\\anaconda3\\lib\\site-packages\\statsmodels\\tsa\\holtwinters.py:725: RuntimeWarning: invalid value encountered in less_equal\n",
      "  loc = initial_p <= lb\n",
      "C:\\Users\\LG\\anaconda3\\lib\\site-packages\\statsmodels\\tsa\\holtwinters.py:731: RuntimeWarning: invalid value encountered in greater_equal\n",
      "  loc = initial_p >= ub\n",
      "C:\\Users\\LG\\anaconda3\\lib\\site-packages\\statsmodels\\tsa\\holtwinters.py:744: ConvergenceWarning: Optimization failed to converge. Check mle_retvals.\n",
      "  ConvergenceWarning)\n"
     ]
    }
   ],
   "source": [
    "Seas = ExponentialSmoothing(series, trend=\"add\", seasonal=\"mul\", seasonal_periods=12).fit()"
   ]
  },
  {
   "cell_type": "code",
   "execution_count": 105,
   "metadata": {},
   "outputs": [
    {
     "data": {
      "text/plain": [
       "{'smoothing_level': 0.2105406658923509,\n",
       " 'smoothing_slope': 0.2105406580853047,\n",
       " 'smoothing_seasonal': 0.10525226536070365,\n",
       " 'damping_slope': nan,\n",
       " 'initial_level': 174.33328798480414,\n",
       " 'initial_slope': 1.1805499975620573,\n",
       " 'initial_seasons': array([0.93748581, 0.9888166 , 0.86284025, 0.84989079, 0.9566672 ,\n",
       "        0.86890229, 0.87826401, 0.86694039, 0.9072826 , 0.91781651,\n",
       "        1.01915537, 1.16255999]),\n",
       " 'use_boxcox': False,\n",
       " 'lamda': None,\n",
       " 'remove_bias': False}"
      ]
     },
     "execution_count": 105,
     "metadata": {},
     "output_type": "execute_result"
    }
   ],
   "source": [
    "Seas.params"
   ]
  },
  {
   "cell_type": "code",
   "execution_count": 106,
   "metadata": {},
   "outputs": [
    {
     "name": "stderr",
     "output_type": "stream",
     "text": [
      "C:\\Users\\LG\\anaconda3\\lib\\site-packages\\statsmodels\\tsa\\base\\tsa_model.py:583: ValueWarning: No supported index is available. Prediction results will be given with an integer index beginning at `start`.\n",
      "  ValueWarning)\n"
     ]
    },
    {
     "data": {
      "text/plain": [
       "36    244.055576\n",
       "37    262.051610\n",
       "38    233.706163\n",
       "39    233.747217\n",
       "40    268.743830\n",
       "41    247.750277\n",
       "42    254.536769\n",
       "43    255.838929\n",
       "44    272.341234\n",
       "45    280.019878\n",
       "46    314.037083\n",
       "47    362.469505\n",
       "dtype: float64"
      ]
     },
     "execution_count": 106,
     "metadata": {},
     "output_type": "execute_result"
    }
   ],
   "source": [
    "Seas.forecast(12)"
   ]
  },
  {
   "cell_type": "code",
   "execution_count": 108,
   "metadata": {},
   "outputs": [
    {
     "name": "stderr",
     "output_type": "stream",
     "text": [
      "C:\\Users\\LG\\anaconda3\\lib\\site-packages\\statsmodels\\tsa\\base\\tsa_model.py:583: ValueWarning: No supported index is available. Prediction results will be given with an integer index beginning at `start`.\n",
      "  ValueWarning)\n"
     ]
    },
    {
     "data": {
      "text/plain": [
       "<matplotlib.axes._subplots.AxesSubplot at 0x2a100554848>"
      ]
     },
     "execution_count": 108,
     "metadata": {},
     "output_type": "execute_result"
    },
    {
     "data": {
      "image/png": "[encoded data removed]",
      "text/plain": [
       "<Figure size 432x288 with 1 Axes>"
      ]
     },
     "metadata": {
      "needs_background": "light"
     },
     "output_type": "display_data"
    }
   ],
   "source": [
    "df.plot.line(x='t', y='Demand',style=\"--\", color=\"blue\")\n",
    "Seas.forecast(12).plot(style=\"--\", marker=\"o\", color=\"blue\")"
   ]
  },
  {
   "cell_type": "code",
   "execution_count": null,
   "metadata": {},
   "outputs": [],
   "source": []
  }
 ],
 "metadata": {
  "kernelspec": {
   "display_name": "Python 3",
   "language": "python",
   "name": "python3"
  },
  "language_info": {
   "codemirror_mode": {
    "name": "ipython",
    "version": 3
   },
   "file_extension": ".py",
   "mimetype": "text/x-python",
   "name": "python",
   "nbconvert_exporter": "python",
   "pygments_lexer": "ipython3",
   "version": "3.7.6"
  }
 },
 "nbformat": 4,
 "nbformat_minor": 4
}
